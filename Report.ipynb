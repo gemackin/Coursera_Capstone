{
 "cells": [
  {
   "cell_type": "markdown",
   "metadata": {},
   "source": [
    "The problem I am looking to solve is how neighborhoods can properly be grouped together to optimize mail distribution based on a limited number of mailmen to deliver said mail.\n",
    "\n",
    "The results would aid the mail-delivering services in the area in sectioning off specific districts for mailmen to cover."
   ]
  },
  {
   "cell_type": "markdown",
   "metadata": {},
   "source": [
    "To solve this problem, I will leverage the location data surrounding neighborhoods in the Toronto area, namely the name of the neighborhood, the borough it belongs to, the postal code of the neighborhood, and the latitude/longitude coordinates of the neighborhood.\n",
    "\n",
    "The location data in question will be sourced via the geopy library in Python, referencing the postal codes found in the Wikipedia article \"List of postal codes of Canada: M\", which contains all postal codes in the Toronto area."
   ]
  },
  {
   "cell_type": "markdown",
   "metadata": {},
   "source": [
    "The coordinates of each neighborhood will then be clustered through the k-means clustering algorithm, with k being the number of available mailmen to deliver the mail. The clusters can be used the symbolize the districts to which a single mailmen or group thereof will be responsible for delivering mail.\n",
    "\n",
    "For better representation of the data, postal codes where the neighborhood borough is not assigned will be omitted, as the location data cannot be retrieved without a neighborhood or borough by which to base it.\n",
    "\n",
    "I will be using 5 clusters to divide up the Toronto area, but any number of clusters is possible."
   ]
  },
  {
   "cell_type": "markdown",
   "metadata": {},
   "source": [
    "The map\n",
    "shows 5 districts, each with their own distinct color of red, blue, green, yellow, or purple. The west side of Toronto is all a single cluster (red), as is the east side (blue). In the middle, however, are 3 different clusters, due to the density of neighborhoods in the area. The purple cluster lay to the north of this area, the green to the west, and the yellow to the east."
   ]
  },
  {
   "cell_type": "markdown",
   "metadata": {},
   "source": [
    "From the data, one can conclude that given 5 mailmen or groups of mailmen, they should be split up according to the map, with one group to the west, one to the east, and 3 groups in the middle, with one to the northern part, and the other 2 to the east and west.\n",
    "\n",
    "I recommend changing the value of k in the algorithm from 5 to a number that better represents the number of mailmen or groups thereof available to each mail delivering service."
   ]
  },
  {
   "cell_type": "markdown",
   "metadata": {},
   "source": [
    "In conclusion, to optimize mail-distribution districts in the Toronto area, a k-means clustering algorithm can be used. With k being equal to 5, the districts should be sectioned as shown in the map as part of the notebook linked, but such calculations can be performed on any locational dataset with any number of clusters."
   ]
  }
 ],
 "metadata": {
  "kernelspec": {
   "display_name": "Python 3",
   "language": "python",
   "name": "python3"
  },
  "language_info": {
   "codemirror_mode": {
    "name": "ipython",
    "version": 3
   },
   "file_extension": ".py",
   "mimetype": "text/x-python",
   "name": "python",
   "nbconvert_exporter": "python",
   "pygments_lexer": "ipython3",
   "version": "3.7.4"
  }
 },
 "nbformat": 4,
 "nbformat_minor": 4
}
